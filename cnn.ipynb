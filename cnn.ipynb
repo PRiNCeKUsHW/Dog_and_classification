{
 "cells": [
  {
   "cell_type": "code",
   "execution_count": 1,
   "metadata": {},
   "outputs": [
    {
     "name": "stdout",
     "output_type": "stream",
     "text": [
      "WARNING:tensorflow:From c:\\Users\\Anuj\\AppData\\Local\\Programs\\Python\\Python311\\Lib\\site-packages\\keras\\src\\losses.py:2976: The name tf.losses.sparse_softmax_cross_entropy is deprecated. Please use tf.compat.v1.losses.sparse_softmax_cross_entropy instead.\n",
      "\n"
     ]
    }
   ],
   "source": [
    "import tensorflow as tf\n",
    "from keras.preprocessing.image import ImageDataGenerator"
   ]
  },
  {
   "cell_type": "code",
   "execution_count": 2,
   "metadata": {},
   "outputs": [
    {
     "data": {
      "text/plain": [
       "'2.15.0'"
      ]
     },
     "execution_count": 2,
     "metadata": {},
     "output_type": "execute_result"
    }
   ],
   "source": [
    "\n",
    "tf.__version__\n"
   ]
  },
  {
   "cell_type": "markdown",
   "metadata": {},
   "source": [
    "# Part 1 Data preprocessing\n",
    "preprocessing the training set"
   ]
  },
  {
   "cell_type": "code",
   "execution_count": 4,
   "metadata": {},
   "outputs": [
    {
     "name": "stdout",
     "output_type": "stream",
     "text": [
      "Found 8000 images belonging to 2 classes.\n"
     ]
    }
   ],
   "source": [
    "train_datagen = ImageDataGenerator(rescale=1./255,shear_range=0.2,zoom_range=0.2, horizontal_flip=True)\n",
    "training_set = train_datagen.flow_from_directory('dataset/training_set',target_size=(64,64),batch_size=32,class_mode='binary')"
   ]
  },
  {
   "cell_type": "markdown",
   "metadata": {},
   "source": [
    "processing the test set"
   ]
  },
  {
   "cell_type": "code",
   "execution_count": 5,
   "metadata": {},
   "outputs": [
    {
     "name": "stdout",
     "output_type": "stream",
     "text": [
      "Found 2000 images belonging to 2 classes.\n"
     ]
    }
   ],
   "source": [
    "test_datagen = ImageDataGenerator(rescale=1./255)\n",
    "test_set = test_datagen.flow_from_directory('dataset/test_set',target_size=(64,64),batch_size=32,class_mode='binary')"
   ]
  },
  {
   "cell_type": "markdown",
   "metadata": {},
   "source": [
    "# Part 2 - Building the CNN\n",
    "\n",
    "initialising the CNN"
   ]
  },
  {
   "cell_type": "code",
   "execution_count": 6,
   "metadata": {},
   "outputs": [
    {
     "name": "stdout",
     "output_type": "stream",
     "text": [
      "WARNING:tensorflow:From c:\\Users\\Anuj\\AppData\\Local\\Programs\\Python\\Python311\\Lib\\site-packages\\keras\\src\\backend.py:873: The name tf.get_default_graph is deprecated. Please use tf.compat.v1.get_default_graph instead.\n",
      "\n"
     ]
    }
   ],
   "source": [
    "cnn=tf.keras.models.Sequential()"
   ]
  },
  {
   "cell_type": "markdown",
   "metadata": {},
   "source": [
    "## Step 1 Convolution"
   ]
  },
  {
   "cell_type": "code",
   "execution_count": 7,
   "metadata": {},
   "outputs": [],
   "source": [
    "cnn.add(tf.keras.layers.Conv2D(filters=32,kernel_size=3, activation='relu',input_shape=[64,64,3]))"
   ]
  },
  {
   "cell_type": "markdown",
   "metadata": {},
   "source": [
    "## Step 2 Polling"
   ]
  },
  {
   "cell_type": "code",
   "execution_count": 8,
   "metadata": {},
   "outputs": [
    {
     "name": "stdout",
     "output_type": "stream",
     "text": [
      "WARNING:tensorflow:From c:\\Users\\Anuj\\AppData\\Local\\Programs\\Python\\Python311\\Lib\\site-packages\\keras\\src\\layers\\pooling\\max_pooling2d.py:161: The name tf.nn.max_pool is deprecated. Please use tf.nn.max_pool2d instead.\n",
      "\n"
     ]
    }
   ],
   "source": [
    "cnn.add(tf.keras.layers.MaxPool2D(pool_size=2,strides=2))"
   ]
  },
  {
   "cell_type": "markdown",
   "metadata": {},
   "source": [
    "## adding a second convolutional layer"
   ]
  },
  {
   "cell_type": "code",
   "execution_count": 9,
   "metadata": {},
   "outputs": [],
   "source": [
    "cnn.add(tf.keras.layers.Conv2D(filters=32,kernel_size=3, activation='relu'))\n",
    "cnn.add(tf.keras.layers.MaxPool2D(pool_size=2, strides=2))"
   ]
  },
  {
   "cell_type": "markdown",
   "metadata": {},
   "source": [
    "# Step 3 Flatting"
   ]
  },
  {
   "cell_type": "code",
   "execution_count": 10,
   "metadata": {},
   "outputs": [],
   "source": [
    "cnn.add(tf.keras.layers.Flatten())"
   ]
  },
  {
   "cell_type": "markdown",
   "metadata": {},
   "source": [
    "# step 4 full connection"
   ]
  },
  {
   "cell_type": "code",
   "execution_count": 12,
   "metadata": {},
   "outputs": [],
   "source": [
    "cnn.add(tf.keras.layers.Dense(units=128,activation='relu'))\n",
    "\n"
   ]
  },
  {
   "cell_type": "markdown",
   "metadata": {},
   "source": [
    "# step 5 Output layer"
   ]
  },
  {
   "cell_type": "code",
   "execution_count": 13,
   "metadata": {},
   "outputs": [],
   "source": [
    "cnn.add(tf.keras.layers.Dense(units=1,activation='sigmoid'))"
   ]
  },
  {
   "cell_type": "markdown",
   "metadata": {},
   "source": [
    "# Part 3 Training the CNN\n",
    "\n",
    "Compiling the cnn\n"
   ]
  },
  {
   "cell_type": "code",
   "execution_count": 14,
   "metadata": {},
   "outputs": [
    {
     "name": "stdout",
     "output_type": "stream",
     "text": [
      "WARNING:tensorflow:From c:\\Users\\Anuj\\AppData\\Local\\Programs\\Python\\Python311\\Lib\\site-packages\\keras\\src\\optimizers\\__init__.py:309: The name tf.train.Optimizer is deprecated. Please use tf.compat.v1.train.Optimizer instead.\n",
      "\n"
     ]
    }
   ],
   "source": [
    "cnn.compile(optimizer='adam',loss='binary_crossentropy',metrics=['accuracy'])"
   ]
  },
  {
   "cell_type": "markdown",
   "metadata": {},
   "source": [
    "Training the cnn on the training set and evaluating it on the test set"
   ]
  },
  {
   "cell_type": "code",
   "execution_count": 15,
   "metadata": {},
   "outputs": [
    {
     "name": "stdout",
     "output_type": "stream",
     "text": [
      "Epoch 1/25\n",
      "WARNING:tensorflow:From c:\\Users\\Anuj\\AppData\\Local\\Programs\\Python\\Python311\\Lib\\site-packages\\keras\\src\\utils\\tf_utils.py:492: The name tf.ragged.RaggedTensorValue is deprecated. Please use tf.compat.v1.ragged.RaggedTensorValue instead.\n",
      "\n",
      "WARNING:tensorflow:From c:\\Users\\Anuj\\AppData\\Local\\Programs\\Python\\Python311\\Lib\\site-packages\\keras\\src\\engine\\base_layer_utils.py:384: The name tf.executing_eagerly_outside_functions is deprecated. Please use tf.compat.v1.executing_eagerly_outside_functions instead.\n",
      "\n",
      "250/250 [==============================] - 235s 935ms/step - loss: 0.6660 - accuracy: 0.5884 - val_loss: 0.6088 - val_accuracy: 0.6820\n",
      "Epoch 2/25\n",
      "250/250 [==============================] - 31s 125ms/step - loss: 0.5922 - accuracy: 0.6858 - val_loss: 0.5506 - val_accuracy: 0.7290\n",
      "Epoch 3/25\n",
      "250/250 [==============================] - 29s 115ms/step - loss: 0.5521 - accuracy: 0.7168 - val_loss: 0.5346 - val_accuracy: 0.7530\n",
      "Epoch 4/25\n",
      "250/250 [==============================] - 28s 114ms/step - loss: 0.5297 - accuracy: 0.7439 - val_loss: 0.6047 - val_accuracy: 0.6795\n",
      "Epoch 5/25\n",
      "250/250 [==============================] - 29s 114ms/step - loss: 0.5048 - accuracy: 0.7525 - val_loss: 0.4888 - val_accuracy: 0.7620\n",
      "Epoch 6/25\n",
      "250/250 [==============================] - 29s 115ms/step - loss: 0.4826 - accuracy: 0.7707 - val_loss: 0.4932 - val_accuracy: 0.7730\n",
      "Epoch 7/25\n",
      "250/250 [==============================] - 29s 115ms/step - loss: 0.4719 - accuracy: 0.7735 - val_loss: 0.5352 - val_accuracy: 0.7510\n",
      "Epoch 8/25\n",
      "250/250 [==============================] - 29s 114ms/step - loss: 0.4602 - accuracy: 0.7789 - val_loss: 0.5077 - val_accuracy: 0.7730\n",
      "Epoch 9/25\n",
      "250/250 [==============================] - 29s 115ms/step - loss: 0.4431 - accuracy: 0.7910 - val_loss: 0.4751 - val_accuracy: 0.7940\n",
      "Epoch 10/25\n",
      "250/250 [==============================] - 29s 116ms/step - loss: 0.4285 - accuracy: 0.7983 - val_loss: 0.5188 - val_accuracy: 0.7625\n",
      "Epoch 11/25\n",
      "250/250 [==============================] - 31s 123ms/step - loss: 0.4202 - accuracy: 0.8051 - val_loss: 0.4767 - val_accuracy: 0.7855\n",
      "Epoch 12/25\n",
      "250/250 [==============================] - 29s 114ms/step - loss: 0.4091 - accuracy: 0.8130 - val_loss: 0.4844 - val_accuracy: 0.7785\n",
      "Epoch 13/25\n",
      "250/250 [==============================] - 29s 115ms/step - loss: 0.4023 - accuracy: 0.8180 - val_loss: 0.4406 - val_accuracy: 0.8075\n",
      "Epoch 14/25\n",
      "250/250 [==============================] - 29s 115ms/step - loss: 0.3859 - accuracy: 0.8211 - val_loss: 0.4907 - val_accuracy: 0.7830\n",
      "Epoch 15/25\n",
      "250/250 [==============================] - 29s 115ms/step - loss: 0.3752 - accuracy: 0.8303 - val_loss: 0.4708 - val_accuracy: 0.7920\n",
      "Epoch 16/25\n",
      "250/250 [==============================] - 29s 114ms/step - loss: 0.3722 - accuracy: 0.8326 - val_loss: 0.4660 - val_accuracy: 0.7935\n",
      "Epoch 17/25\n",
      "250/250 [==============================] - 29s 114ms/step - loss: 0.3692 - accuracy: 0.8319 - val_loss: 0.4616 - val_accuracy: 0.7945\n",
      "Epoch 18/25\n",
      "250/250 [==============================] - 29s 115ms/step - loss: 0.3592 - accuracy: 0.8416 - val_loss: 0.4895 - val_accuracy: 0.7805\n",
      "Epoch 19/25\n",
      "250/250 [==============================] - 32s 126ms/step - loss: 0.3540 - accuracy: 0.8420 - val_loss: 0.4898 - val_accuracy: 0.7890\n",
      "Epoch 20/25\n",
      "250/250 [==============================] - 32s 127ms/step - loss: 0.3369 - accuracy: 0.8469 - val_loss: 0.4810 - val_accuracy: 0.7960\n",
      "Epoch 21/25\n",
      "250/250 [==============================] - 31s 125ms/step - loss: 0.3297 - accuracy: 0.8544 - val_loss: 0.5161 - val_accuracy: 0.7815\n",
      "Epoch 22/25\n",
      "250/250 [==============================] - 32s 128ms/step - loss: 0.3242 - accuracy: 0.8571 - val_loss: 0.4376 - val_accuracy: 0.8195\n",
      "Epoch 23/25\n",
      "250/250 [==============================] - 37s 147ms/step - loss: 0.3086 - accuracy: 0.8644 - val_loss: 0.4548 - val_accuracy: 0.8030\n",
      "Epoch 24/25\n",
      "250/250 [==============================] - 37s 150ms/step - loss: 0.3071 - accuracy: 0.8633 - val_loss: 0.4663 - val_accuracy: 0.8115\n",
      "Epoch 25/25\n",
      "250/250 [==============================] - 38s 151ms/step - loss: 0.2949 - accuracy: 0.8719 - val_loss: 0.4738 - val_accuracy: 0.8090\n"
     ]
    },
    {
     "data": {
      "text/plain": [
       "<keras.src.callbacks.History at 0x1baa1c7cf50>"
      ]
     },
     "execution_count": 15,
     "metadata": {},
     "output_type": "execute_result"
    }
   ],
   "source": [
    "cnn.fit(x=training_set,validation_data=test_set,epochs=25)"
   ]
  },
  {
   "cell_type": "code",
   "execution_count": 16,
   "metadata": {},
   "outputs": [
    {
     "name": "stderr",
     "output_type": "stream",
     "text": [
      "c:\\Users\\Anuj\\AppData\\Local\\Programs\\Python\\Python311\\Lib\\site-packages\\keras\\src\\engine\\training.py:3103: UserWarning: You are saving your model as an HDF5 file via `model.save()`. This file format is considered legacy. We recommend using instead the native Keras format, e.g. `model.save('my_model.keras')`.\n",
      "  saving_api.save_model(\n"
     ]
    }
   ],
   "source": [
    "cnn.save('clssification.h5')"
   ]
  },
  {
   "cell_type": "markdown",
   "metadata": {},
   "source": []
  }
 ],
 "metadata": {
  "kernelspec": {
   "display_name": "Python 3",
   "language": "python",
   "name": "python3"
  },
  "language_info": {
   "codemirror_mode": {
    "name": "ipython",
    "version": 3
   },
   "file_extension": ".py",
   "mimetype": "text/x-python",
   "name": "python",
   "nbconvert_exporter": "python",
   "pygments_lexer": "ipython3",
   "version": "3.11.0"
  }
 },
 "nbformat": 4,
 "nbformat_minor": 2
}
